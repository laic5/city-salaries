{
 "cells": [
  {
   "cell_type": "code",
   "execution_count": 2,
   "metadata": {
    "collapsed": false
   },
   "outputs": [],
   "source": [
    "import pandas as pd\n",
    "\n",
    "dat = pd.read_csv(\"2015_City.csv\", skiprows = 4)"
   ]
  },
  {
   "cell_type": "code",
   "execution_count": 4,
   "metadata": {
    "collapsed": false
   },
   "outputs": [
    {
     "data": {
      "text/html": [
       "<div>\n",
       "<table border=\"1\" class=\"dataframe\">\n",
       "  <thead>\n",
       "    <tr style=\"text-align: right;\">\n",
       "      <th></th>\n",
       "      <th>Year</th>\n",
       "      <th>Entity Type</th>\n",
       "      <th>Entity Group</th>\n",
       "      <th>Entity Name</th>\n",
       "      <th>Department / Subdivision</th>\n",
       "      <th>Position</th>\n",
       "      <th>Elected Official</th>\n",
       "      <th>Judicial</th>\n",
       "      <th>Other Positions</th>\n",
       "      <th>Min Classification Salary</th>\n",
       "      <th>...</th>\n",
       "      <th>Employees Retirement Cost Covered</th>\n",
       "      <th>Deferred Compensation Plan</th>\n",
       "      <th>Health Dental Vision</th>\n",
       "      <th>Total Retirement and Health Cost</th>\n",
       "      <th>Pension Formula</th>\n",
       "      <th>Entity URL</th>\n",
       "      <th>Entity Population</th>\n",
       "      <th>Last Updated</th>\n",
       "      <th>Entity County</th>\n",
       "      <th>Special District Activities</th>\n",
       "    </tr>\n",
       "  </thead>\n",
       "  <tbody>\n",
       "    <tr>\n",
       "      <th>0</th>\n",
       "      <td>2015</td>\n",
       "      <td>City</td>\n",
       "      <td>NaN</td>\n",
       "      <td>Agoura Hills</td>\n",
       "      <td>Architectural Review Board</td>\n",
       "      <td>Board Member</td>\n",
       "      <td>False</td>\n",
       "      <td>False</td>\n",
       "      <td>NaN</td>\n",
       "      <td>NaN</td>\n",
       "      <td>...</td>\n",
       "      <td>NaN</td>\n",
       "      <td>NaN</td>\n",
       "      <td>NaN</td>\n",
       "      <td>0.0</td>\n",
       "      <td>NaN</td>\n",
       "      <td>NaN</td>\n",
       "      <td>21211</td>\n",
       "      <td>06/28/2016</td>\n",
       "      <td>Los Angeles</td>\n",
       "      <td>NaN</td>\n",
       "    </tr>\n",
       "    <tr>\n",
       "      <th>1</th>\n",
       "      <td>2015</td>\n",
       "      <td>City</td>\n",
       "      <td>NaN</td>\n",
       "      <td>Agoura Hills</td>\n",
       "      <td>Architectural Review Board</td>\n",
       "      <td>Board Member</td>\n",
       "      <td>False</td>\n",
       "      <td>False</td>\n",
       "      <td>NaN</td>\n",
       "      <td>NaN</td>\n",
       "      <td>...</td>\n",
       "      <td>NaN</td>\n",
       "      <td>NaN</td>\n",
       "      <td>NaN</td>\n",
       "      <td>0.0</td>\n",
       "      <td>NaN</td>\n",
       "      <td>NaN</td>\n",
       "      <td>21211</td>\n",
       "      <td>06/28/2016</td>\n",
       "      <td>Los Angeles</td>\n",
       "      <td>NaN</td>\n",
       "    </tr>\n",
       "    <tr>\n",
       "      <th>2</th>\n",
       "      <td>2015</td>\n",
       "      <td>City</td>\n",
       "      <td>NaN</td>\n",
       "      <td>Agoura Hills</td>\n",
       "      <td>Building &amp; Safety</td>\n",
       "      <td>Building Official</td>\n",
       "      <td>False</td>\n",
       "      <td>False</td>\n",
       "      <td>NaN</td>\n",
       "      <td>112524.0</td>\n",
       "      <td>...</td>\n",
       "      <td>9534.0</td>\n",
       "      <td>3405.0</td>\n",
       "      <td>17364.0</td>\n",
       "      <td>43253.0</td>\n",
       "      <td>2%@55</td>\n",
       "      <td>NaN</td>\n",
       "      <td>21211</td>\n",
       "      <td>06/28/2016</td>\n",
       "      <td>Los Angeles</td>\n",
       "      <td>NaN</td>\n",
       "    </tr>\n",
       "    <tr>\n",
       "      <th>3</th>\n",
       "      <td>2015</td>\n",
       "      <td>City</td>\n",
       "      <td>NaN</td>\n",
       "      <td>Agoura Hills</td>\n",
       "      <td>Building &amp; Safety</td>\n",
       "      <td>Building Permit Technician</td>\n",
       "      <td>False</td>\n",
       "      <td>False</td>\n",
       "      <td>NaN</td>\n",
       "      <td>51684.0</td>\n",
       "      <td>...</td>\n",
       "      <td>3373.0</td>\n",
       "      <td>1680.0</td>\n",
       "      <td>16389.0</td>\n",
       "      <td>25826.0</td>\n",
       "      <td>2%@55</td>\n",
       "      <td>NaN</td>\n",
       "      <td>21211</td>\n",
       "      <td>06/28/2016</td>\n",
       "      <td>Los Angeles</td>\n",
       "      <td>NaN</td>\n",
       "    </tr>\n",
       "    <tr>\n",
       "      <th>4</th>\n",
       "      <td>2015</td>\n",
       "      <td>City</td>\n",
       "      <td>NaN</td>\n",
       "      <td>Agoura Hills</td>\n",
       "      <td>Building &amp; Safety</td>\n",
       "      <td>Senior Building Inspector</td>\n",
       "      <td>False</td>\n",
       "      <td>False</td>\n",
       "      <td>NaN</td>\n",
       "      <td>63324.0</td>\n",
       "      <td>...</td>\n",
       "      <td>5365.0</td>\n",
       "      <td>1820.0</td>\n",
       "      <td>17030.0</td>\n",
       "      <td>31502.0</td>\n",
       "      <td>2%@55</td>\n",
       "      <td>NaN</td>\n",
       "      <td>21211</td>\n",
       "      <td>06/28/2016</td>\n",
       "      <td>Los Angeles</td>\n",
       "      <td>NaN</td>\n",
       "    </tr>\n",
       "  </tbody>\n",
       "</table>\n",
       "<p>5 rows × 28 columns</p>\n",
       "</div>"
      ],
      "text/plain": [
       "   Year Entity Type  Entity Group   Entity Name    Department / Subdivision  \\\n",
       "0  2015        City           NaN  Agoura Hills  Architectural Review Board   \n",
       "1  2015        City           NaN  Agoura Hills  Architectural Review Board   \n",
       "2  2015        City           NaN  Agoura Hills           Building & Safety   \n",
       "3  2015        City           NaN  Agoura Hills           Building & Safety   \n",
       "4  2015        City           NaN  Agoura Hills           Building & Safety   \n",
       "\n",
       "                     Position Elected Official Judicial Other Positions  \\\n",
       "0                Board Member            False    False             NaN   \n",
       "1                Board Member            False    False             NaN   \n",
       "2           Building Official            False    False             NaN   \n",
       "3  Building Permit Technician            False    False             NaN   \n",
       "4   Senior Building Inspector            False    False             NaN   \n",
       "\n",
       "   Min Classification Salary             ...               \\\n",
       "0                        NaN             ...                \n",
       "1                        NaN             ...                \n",
       "2                   112524.0             ...                \n",
       "3                    51684.0             ...                \n",
       "4                    63324.0             ...                \n",
       "\n",
       "   Employees Retirement Cost Covered  Deferred Compensation Plan  \\\n",
       "0                                NaN                         NaN   \n",
       "1                                NaN                         NaN   \n",
       "2                             9534.0                      3405.0   \n",
       "3                             3373.0                      1680.0   \n",
       "4                             5365.0                      1820.0   \n",
       "\n",
       "   Health Dental Vision  Total Retirement and Health Cost  Pension Formula  \\\n",
       "0                   NaN                               0.0              NaN   \n",
       "1                   NaN                               0.0              NaN   \n",
       "2               17364.0                           43253.0            2%@55   \n",
       "3               16389.0                           25826.0            2%@55   \n",
       "4               17030.0                           31502.0            2%@55   \n",
       "\n",
       "   Entity URL  Entity Population  Last Updated  Entity County  \\\n",
       "0         NaN              21211    06/28/2016    Los Angeles   \n",
       "1         NaN              21211    06/28/2016    Los Angeles   \n",
       "2         NaN              21211    06/28/2016    Los Angeles   \n",
       "3         NaN              21211    06/28/2016    Los Angeles   \n",
       "4         NaN              21211    06/28/2016    Los Angeles   \n",
       "\n",
       "   Special District Activities  \n",
       "0                          NaN  \n",
       "1                          NaN  \n",
       "2                          NaN  \n",
       "3                          NaN  \n",
       "4                          NaN  \n",
       "\n",
       "[5 rows x 28 columns]"
      ]
     },
     "execution_count": 4,
     "metadata": {},
     "output_type": "execute_result"
    }
   ],
   "source": [
    "dat.head()"
   ]
  },
  {
   "cell_type": "code",
   "execution_count": 1,
   "metadata": {
    "collapsed": true
   },
   "outputs": [],
   "source": [
    "from matplotlib import pyplot as plt\n",
    "plt.style.use('ggplot')"
   ]
  },
  {
   "cell_type": "code",
   "execution_count": 13,
   "metadata": {
    "collapsed": false
   },
   "outputs": [
    {
     "data": {
      "image/png": "[encoded data removed]",
      "text/plain": [
       "<matplotlib.figure.Figure at 0xa20b828>"
      ]
     },
     "metadata": {},
     "output_type": "display_data"
    }
   ],
   "source": [
    "plt.hist(dat[\"Total Wages\"], bins = 50)\n",
    "plt.xlabel(\"Wages\")\n",
    "plt.ylabel(\"LOVE\")\n",
    "plt.show()"
   ]
  },
  {
   "cell_type": "code",
   "execution_count": 32,
   "metadata": {
    "collapsed": false
   },
   "outputs": [
    {
     "data": {
      "text/plain": [
       "200546    509123.9\n",
       "260733    507832.0\n",
       "101071    499382.0\n",
       "101528    482792.0\n",
       "101072    477137.0\n",
       "Name: Total Wages, dtype: float64"
      ]
     },
     "execution_count": 32,
     "metadata": {},
     "output_type": "execute_result"
    }
   ],
   "source": [
    "dat.sort_values(by=\"Total Wages\", ascending=False)[\"Total Wages\"].head()"
   ]
  },
  {
   "cell_type": "code",
   "execution_count": 23,
   "metadata": {
    "collapsed": true
   },
   "outputs": [],
   "source": [
    "# remove the rows with total wages <= 0\n",
    "\n",
    "new_dat = dat.loc[dat[\"Total Wages\"] >= 18000]"
   ]
  },
  {
   "cell_type": "code",
   "execution_count": 24,
   "metadata": {
    "collapsed": false
   },
   "outputs": [
    {
     "data": {
      "text/plain": [
       "285915    18000.0\n",
       "165942    18001.0\n",
       "291654    18002.0\n",
       "141693    18002.0\n",
       "146107    18002.0\n",
       "103555    18003.0\n",
       "219247    18003.0\n",
       "24270     18003.0\n",
       "167463    18004.0\n",
       "42134     18004.0\n",
       "155148    18004.0\n",
       "2336      18004.0\n",
       "139905    18005.0\n",
       "300899    18005.0\n",
       "94195     18006.0\n",
       "Name: Total Wages, dtype: float64"
      ]
     },
     "execution_count": 24,
     "metadata": {},
     "output_type": "execute_result"
    }
   ],
   "source": [
    "new_dat.sort_values(by=\"Total Wages\", ascending=True)[\"Total Wages\"].head(15)"
   ]
  },
  {
   "cell_type": "code",
   "execution_count": 26,
   "metadata": {
    "collapsed": false
   },
   "outputs": [
    {
     "data": {
      "text/plain": [
       "(220585, 317532)"
      ]
     },
     "execution_count": 26,
     "metadata": {},
     "output_type": "execute_result"
    }
   ],
   "source": [
    "len(new_dat), len(dat)"
   ]
  },
  {
   "cell_type": "code",
   "execution_count": 28,
   "metadata": {
    "collapsed": false
   },
   "outputs": [
    {
     "data": {
      "text/plain": [
       "0.6946858899260547"
      ]
     },
     "execution_count": 28,
     "metadata": {},
     "output_type": "execute_result"
    }
   ],
   "source": [
    "float(len(new_dat))/float(len(dat)) # removed 30% of our data! :O"
   ]
  },
  {
   "cell_type": "code",
   "execution_count": 31,
   "metadata": {
    "collapsed": false
   },
   "outputs": [
    {
     "data": {
      "image/png": "[encoded data removed]",
      "text/plain": [
       "<matplotlib.figure.Figure at 0xd51e630>"
      ]
     },
     "metadata": {},
     "output_type": "display_data"
    }
   ],
   "source": [
    "plt.hist(new_dat[\"Total Wages\"], bins = 20)\n",
    "plt.xlabel(\"Wages\")\n",
    "plt.ylabel(\"LOVE\")\n",
    "plt.title(\"Full Time Workers\")\n",
    "plt.show()"
   ]
  },
  {
   "cell_type": "code",
   "execution_count": 36,
   "metadata": {
    "collapsed": false
   },
   "outputs": [
    {
     "data": {
      "text/html": [
       "<div>\n",
       "<table border=\"1\" class=\"dataframe\">\n",
       "  <thead>\n",
       "    <tr style=\"text-align: right;\">\n",
       "      <th></th>\n",
       "      <th>Year</th>\n",
       "      <th>Total Wages</th>\n",
       "    </tr>\n",
       "  </thead>\n",
       "  <tbody>\n",
       "    <tr>\n",
       "      <th>0</th>\n",
       "      <td>2009</td>\n",
       "      <td>26164.0</td>\n",
       "    </tr>\n",
       "    <tr>\n",
       "      <th>1</th>\n",
       "      <td>2009</td>\n",
       "      <td>102647.0</td>\n",
       "    </tr>\n",
       "    <tr>\n",
       "      <th>2</th>\n",
       "      <td>2009</td>\n",
       "      <td>230506.0</td>\n",
       "    </tr>\n",
       "    <tr>\n",
       "      <th>3</th>\n",
       "      <td>2009</td>\n",
       "      <td>47475.0</td>\n",
       "    </tr>\n",
       "    <tr>\n",
       "      <th>4</th>\n",
       "      <td>2009</td>\n",
       "      <td>89330.0</td>\n",
       "    </tr>\n",
       "  </tbody>\n",
       "</table>\n",
       "</div>"
      ],
      "text/plain": [
       "   Year  Total Wages\n",
       "0  2009      26164.0\n",
       "1  2009     102647.0\n",
       "2  2009     230506.0\n",
       "3  2009      47475.0\n",
       "4  2009      89330.0"
      ]
     },
     "execution_count": 36,
     "metadata": {},
     "output_type": "execute_result"
    }
   ],
   "source": [
    "dat = pd.read_csv(\"2015_City.csv\", skiprows = 4)\n",
    "\n",
    "fnames = [\"2009_City.csv\",\"2010_City.csv\",\"2011_City.csv\", \"2012_City.csv\", \"2013_City.csv\", \"2014_City.csv\", \"2015_City.csv\"]\n",
    "\n",
    "bigass_df = pd.DataFrame()\n",
    "li = []\n",
    "\n",
    "for f in fnames:\n",
    "    df = pd.read_csv(f, skiprows = 4, usecols = [\"Year\", \"Total Wages\"])\n",
    "    li.append(df)\n",
    "\n",
    "bigass_df = pd.concat(li)\n",
    "\n",
    "bigass_df.head()"
   ]
  },
  {
   "cell_type": "code",
   "execution_count": 48,
   "metadata": {
    "collapsed": false
   },
   "outputs": [
    {
     "ename": "ImportError",
     "evalue": "No module named brewer2mpl",
     "output_type": "error",
     "traceback": [
      "\u001b[0;31m---------------------------------------------------------------------------\u001b[0m",
      "\u001b[0;31mImportError\u001b[0m                               Traceback (most recent call last)",
      "\u001b[0;32m<ipython-input-48-140f48e42371>\u001b[0m in \u001b[0;36m<module>\u001b[0;34m()\u001b[0m\n\u001b[0;32m----> 1\u001b[0;31m \u001b[1;32mimport\u001b[0m \u001b[0mggplot\u001b[0m\u001b[1;33m\u001b[0m\u001b[0m\n\u001b[0m\u001b[1;32m      2\u001b[0m \u001b[0mggplot\u001b[0m\u001b[1;33m(\u001b[0m\u001b[0maes\u001b[0m\u001b[1;33m(\u001b[0m\u001b[0mx\u001b[0m \u001b[1;33m=\u001b[0m \u001b[1;34m\"Total Wages\"\u001b[0m\u001b[1;33m,\u001b[0m \u001b[0mcolor\u001b[0m \u001b[1;33m=\u001b[0m \u001b[1;34m\"Year\"\u001b[0m\u001b[1;33m)\u001b[0m\u001b[1;33m,\u001b[0m \u001b[0mdata\u001b[0m \u001b[1;33m=\u001b[0m \u001b[0mbigass_df\u001b[0m\u001b[1;33m)\u001b[0m \u001b[1;33m+\u001b[0m  \u001b[0mgeom_density\u001b[0m\u001b[1;33m(\u001b[0m\u001b[0malpha\u001b[0m \u001b[1;33m=\u001b[0m \u001b[1;36m0.2\u001b[0m\u001b[1;33m)\u001b[0m\u001b[1;33m\u001b[0m\u001b[0m\n",
      "\u001b[0;32mC:\\Users\\Cindy\\Anaconda2\\lib\\site-packages\\ggplot\\__init__.py\u001b[0m in \u001b[0;36m<module>\u001b[0;34m()\u001b[0m\n\u001b[1;32m     32\u001b[0m \u001b[1;32mfrom\u001b[0m \u001b[1;33m.\u001b[0m\u001b[0mdatasets\u001b[0m \u001b[1;32mimport\u001b[0m \u001b[0mchopsticks\u001b[0m\u001b[1;33m,\u001b[0m \u001b[0mdiamonds\u001b[0m\u001b[1;33m,\u001b[0m \u001b[0mmtcars\u001b[0m\u001b[1;33m,\u001b[0m \u001b[0mmeat\u001b[0m\u001b[1;33m,\u001b[0m \u001b[0mpageviews\u001b[0m\u001b[1;33m,\u001b[0m \u001b[0mpigeons\u001b[0m\u001b[1;33m,\u001b[0m \u001b[0mmovies\u001b[0m\u001b[1;33m,\u001b[0m \u001b[0mmpg\u001b[0m\u001b[1;33m,\u001b[0m \u001b[0msalmon\u001b[0m\u001b[1;33m\u001b[0m\u001b[0m\n\u001b[1;32m     33\u001b[0m \u001b[1;33m\u001b[0m\u001b[0m\n\u001b[0;32m---> 34\u001b[0;31m \u001b[1;32mfrom\u001b[0m \u001b[1;33m.\u001b[0m\u001b[0mscales\u001b[0m\u001b[1;33m.\u001b[0m\u001b[0mscale_color_brewer\u001b[0m \u001b[1;32mimport\u001b[0m \u001b[0mscale_color_brewer\u001b[0m\u001b[1;33m\u001b[0m\u001b[0m\n\u001b[0m\u001b[1;32m     35\u001b[0m \u001b[1;32mfrom\u001b[0m \u001b[1;33m.\u001b[0m\u001b[0mscales\u001b[0m\u001b[1;33m.\u001b[0m\u001b[0mscale_color_crayon\u001b[0m \u001b[1;32mimport\u001b[0m \u001b[0mscale_color_crayon\u001b[0m\u001b[1;33m\u001b[0m\u001b[0m\n\u001b[1;32m     36\u001b[0m \u001b[1;32mfrom\u001b[0m \u001b[1;33m.\u001b[0m\u001b[0mscales\u001b[0m\u001b[1;33m.\u001b[0m\u001b[0mscale_color_funfetti\u001b[0m \u001b[1;32mimport\u001b[0m \u001b[0mscale_color_funfetti\u001b[0m\u001b[1;33m\u001b[0m\u001b[0m\n",
      "\u001b[0;32mC:\\Users\\Cindy\\Anaconda2\\lib\\site-packages\\ggplot\\scales\\scale_color_brewer.py\u001b[0m in \u001b[0;36m<module>\u001b[0;34m()\u001b[0m\n\u001b[1;32m      3\u001b[0m \u001b[1;32mfrom\u001b[0m \u001b[1;33m.\u001b[0m\u001b[0mscale\u001b[0m \u001b[1;32mimport\u001b[0m \u001b[0mscale\u001b[0m\u001b[1;33m\u001b[0m\u001b[0m\n\u001b[1;32m      4\u001b[0m \u001b[1;32mfrom\u001b[0m \u001b[0mcopy\u001b[0m \u001b[1;32mimport\u001b[0m \u001b[0mdeepcopy\u001b[0m\u001b[1;33m\u001b[0m\u001b[0m\n\u001b[0;32m----> 5\u001b[0;31m \u001b[1;32mimport\u001b[0m \u001b[0mbrewer2mpl\u001b[0m\u001b[1;33m\u001b[0m\u001b[0m\n\u001b[0m\u001b[1;32m      6\u001b[0m \u001b[1;33m\u001b[0m\u001b[0m\n\u001b[1;32m      7\u001b[0m \u001b[1;33m\u001b[0m\u001b[0m\n",
      "\u001b[0;31mImportError\u001b[0m: No module named brewer2mpl"
     ]
    }
   ],
   "source": [
    "import ggplot\n",
    "ggplot(aes(x = \"Total Wages\", color = \"Year\"), data = bigass_df) +  geom_density(alpha = 0.2)"
   ]
  }
 ],
 "metadata": {
  "anaconda-cloud": {},
  "kernelspec": {
   "display_name": "Python [default]",
   "language": "python",
   "name": "python2"
  },
  "language_info": {
   "codemirror_mode": {
    "name": "ipython",
    "version": 2
   },
   "file_extension": ".py",
   "mimetype": "text/x-python",
   "name": "python",
   "nbconvert_exporter": "python",
   "pygments_lexer": "ipython2",
   "version": "2.7.12"
  }
 },
 "nbformat": 4,
 "nbformat_minor": 2
}
